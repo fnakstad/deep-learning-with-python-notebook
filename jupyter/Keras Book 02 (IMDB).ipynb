{
 "cells": [
  {
   "cell_type": "code",
   "execution_count": 33,
   "metadata": {},
   "outputs": [],
   "source": [
    "import numpy as np\n",
    "import matplotlib.pyplot as plt\n",
    "from keras import models\n",
    "from keras import layers\n",
    "from keras.datasets import imdb"
   ]
  },
  {
   "cell_type": "code",
   "execution_count": 2,
   "metadata": {},
   "outputs": [],
   "source": [
    "(train_data, train_labels), (test_data, test_labels) = imdb.load_data(num_words=10000)"
   ]
  },
  {
   "cell_type": "code",
   "execution_count": 13,
   "metadata": {},
   "outputs": [
    {
     "name": "stdout",
     "output_type": "stream",
     "text": [
      "(25000,)\n",
      "[1, 14, 22, 16, 43, 530, 973, 1622, 1385, 65, 458, 4468, 66, 3941, 4, 173, 36, 256, 5, 25, 100, 43, 838, 112, 50, 670, 2, 9, 35, 480, 284, 5, 150, 4, 172, 112, 167, 2, 336, 385, 39, 4, 172, 4536, 1111, 17, 546, 38, 13, 447, 4, 192, 50, 16, 6, 147, 2025, 19, 14, 22, 4, 1920, 4613, 469, 4, 22, 71, 87, 12, 16, 43, 530, 38, 76, 15, 13, 1247, 4, 22, 17, 515, 17, 12, 16, 626, 18, 2, 5, 62, 386, 12, 8, 316, 8, 106, 5, 4, 2223, 5244, 16, 480, 66, 3785, 33, 4, 130, 12, 16, 38, 619, 5, 25, 124, 51, 36, 135, 48, 25, 1415, 33, 6, 22, 12, 215, 28, 77, 52, 5, 14, 407, 16, 82, 2, 8, 4, 107, 117, 5952, 15, 256, 4, 2, 7, 3766, 5, 723, 36, 71, 43, 530, 476, 26, 400, 317, 46, 7, 4, 2, 1029, 13, 104, 88, 4, 381, 15, 297, 98, 32, 2071, 56, 26, 141, 6, 194, 7486, 18, 4, 226, 22, 21, 134, 476, 26, 480, 5, 144, 30, 5535, 18, 51, 36, 28, 224, 92, 25, 104, 4, 226, 65, 16, 38, 1334, 88, 12, 16, 283, 5, 16, 4472, 113, 103, 32, 15, 16, 5345, 19, 178, 32]\n",
      "1\n",
      "9999\n"
     ]
    }
   ],
   "source": [
    "print train_data.shape\n",
    "print train_data[0]\n",
    "print train_labels[0]\n",
    "print max([max(sequence) for sequence in train_data])"
   ]
  },
  {
   "cell_type": "code",
   "execution_count": 4,
   "metadata": {},
   "outputs": [
    {
     "name": "stdout",
     "output_type": "stream",
     "text": [
      "Downloading data from https://s3.amazonaws.com/text-datasets/imdb_word_index.json\n",
      "1646592/1641221 [==============================] - 3s 2us/step\n",
      "1654784/1641221 [==============================] - 3s 2us/step\n"
     ]
    }
   ],
   "source": [
    "word_index = imdb.get_word_index()\n",
    "reverse_word_index = dict([(value, key) for (key, value) in word_index.items()])\n",
    "decoded_review = ' '.join([reverse_word_index.get(i - 3, '?') for i in train_data[0]])"
   ]
  },
  {
   "cell_type": "code",
   "execution_count": 5,
   "metadata": {},
   "outputs": [
    {
     "name": "stdout",
     "output_type": "stream",
     "text": [
      "? this film was just brilliant casting location scenery story direction everyone's really suited the part they played and you could just imagine being there robert ? is an amazing actor and now the same being director ? father came from the same scottish island as myself so i loved the fact there was a real connection with this film the witty remarks throughout the film were great it was just brilliant so much that i bought the film as soon as it was released for ? and would recommend it to everyone to watch and the fly fishing was amazing really cried at the end it was so sad and you know what they say if you cry at a film it must have been good and this definitely was also ? to the two little boy's that played the ? of norman and paul they were just brilliant children are often left out of the ? list i think because the stars that play them all grown up are such a big profile for the whole film but these children are amazing and should be praised for what they have done don't you think the whole story was so lovely because it was true and was someone's life after all that was shared with us all\n"
     ]
    }
   ],
   "source": [
    "print decoded_review"
   ]
  },
  {
   "cell_type": "code",
   "execution_count": 22,
   "metadata": {},
   "outputs": [],
   "source": [
    "def vectorize_sequences(sequences, dimension=10000):\n",
    "    results = np.zeros((len(sequences), dimension))\n",
    "    for i, sequence in enumerate(sequences):\n",
    "        results[i, sequence] = 1.\n",
    "    return results\n",
    "\n",
    "x_train = vectorize_sequences(train_data)\n",
    "x_test = vectorize_sequences(test_data)"
   ]
  },
  {
   "cell_type": "code",
   "execution_count": 23,
   "metadata": {},
   "outputs": [
    {
     "name": "stdout",
     "output_type": "stream",
     "text": [
      "(25000, 10000)\n",
      "[[ 0.  1.  1. ...,  0.  0.  0.]\n",
      " [ 0.  1.  1. ...,  0.  0.  0.]\n",
      " [ 0.  1.  1. ...,  0.  0.  0.]\n",
      " ..., \n",
      " [ 0.  1.  1. ...,  0.  0.  0.]\n",
      " [ 0.  1.  1. ...,  0.  0.  0.]\n",
      " [ 0.  1.  1. ...,  0.  0.  0.]]\n"
     ]
    }
   ],
   "source": [
    "print x_train.shape\n",
    "print x_train"
   ]
  },
  {
   "cell_type": "code",
   "execution_count": 24,
   "metadata": {},
   "outputs": [],
   "source": [
    "y_train = np.asarray(train_labels).astype('float32')\n",
    "y_test = np.asarray(test_labels).astype('float32')"
   ]
  },
  {
   "cell_type": "code",
   "execution_count": 28,
   "metadata": {},
   "outputs": [],
   "source": [
    "model = models.Sequential()\n",
    "model.add(layers.Dense(16, activation='relu', input_shape=(10000,)))\n",
    "model.add(layers.Dense(16, activation='relu'))\n",
    "model.add(layers.Dense(1, activation='sigmoid'))"
   ]
  },
  {
   "cell_type": "code",
   "execution_count": 29,
   "metadata": {},
   "outputs": [],
   "source": [
    "model.compile(optimizer='rmsprop',\n",
    "             loss='binary_crossentropy',\n",
    "             metrics=['accuracy'])"
   ]
  },
  {
   "cell_type": "code",
   "execution_count": 30,
   "metadata": {},
   "outputs": [],
   "source": [
    "x_val = x_train[:10000]\n",
    "partial_x_train = x_train[10000:]\n",
    "y_val = y_train[:10000]\n",
    "partial_y_train = y_train[10000:]"
   ]
  },
  {
   "cell_type": "code",
   "execution_count": 31,
   "metadata": {},
   "outputs": [
    {
     "name": "stdout",
     "output_type": "stream",
     "text": [
      "Train on 15000 samples, validate on 10000 samples\n",
      "Epoch 1/20\n",
      "15000/15000 [==============================] - 3s 232us/step - loss: 0.5087 - acc: 0.7807 - val_loss: 0.3794 - val_acc: 0.8695\n",
      "Epoch 2/20\n",
      "15000/15000 [==============================] - 3s 172us/step - loss: 0.3006 - acc: 0.9053 - val_loss: 0.3004 - val_acc: 0.8899\n",
      "Epoch 3/20\n",
      "15000/15000 [==============================] - 2s 163us/step - loss: 0.2180 - acc: 0.9284 - val_loss: 0.3082 - val_acc: 0.8715\n",
      "Epoch 4/20\n",
      "15000/15000 [==============================] - 2s 151us/step - loss: 0.1750 - acc: 0.9437 - val_loss: 0.2839 - val_acc: 0.8838\n",
      "Epoch 5/20\n",
      "15000/15000 [==============================] - 2s 165us/step - loss: 0.1425 - acc: 0.9545 - val_loss: 0.2847 - val_acc: 0.8864\n",
      "Epoch 6/20\n",
      "15000/15000 [==============================] - 2s 162us/step - loss: 0.1149 - acc: 0.9654 - val_loss: 0.3149 - val_acc: 0.8772\n",
      "Epoch 7/20\n",
      "15000/15000 [==============================] - 2s 137us/step - loss: 0.0978 - acc: 0.9705 - val_loss: 0.3130 - val_acc: 0.8844\n",
      "Epoch 8/20\n",
      "15000/15000 [==============================] - 2s 146us/step - loss: 0.0806 - acc: 0.9765 - val_loss: 0.3859 - val_acc: 0.8647\n",
      "Epoch 9/20\n",
      "15000/15000 [==============================] - 2s 149us/step - loss: 0.0660 - acc: 0.9821 - val_loss: 0.3637 - val_acc: 0.8776\n",
      "Epoch 10/20\n",
      "15000/15000 [==============================] - 3s 170us/step - loss: 0.0559 - acc: 0.9854 - val_loss: 0.3844 - val_acc: 0.8791\n",
      "Epoch 11/20\n",
      "15000/15000 [==============================] - 2s 136us/step - loss: 0.0441 - acc: 0.9889 - val_loss: 0.4155 - val_acc: 0.8779\n",
      "Epoch 12/20\n",
      "15000/15000 [==============================] - 2s 131us/step - loss: 0.0382 - acc: 0.9916 - val_loss: 0.4520 - val_acc: 0.8697\n",
      "Epoch 13/20\n",
      "15000/15000 [==============================] - 2s 142us/step - loss: 0.0298 - acc: 0.9930 - val_loss: 0.4705 - val_acc: 0.8726\n",
      "Epoch 14/20\n",
      "15000/15000 [==============================] - 3s 182us/step - loss: 0.0247 - acc: 0.9947 - val_loss: 0.5042 - val_acc: 0.8720\n",
      "Epoch 15/20\n",
      "15000/15000 [==============================] - 3s 171us/step - loss: 0.0178 - acc: 0.9978 - val_loss: 0.5350 - val_acc: 0.8701\n",
      "Epoch 16/20\n",
      "15000/15000 [==============================] - 2s 157us/step - loss: 0.0184 - acc: 0.9959 - val_loss: 0.5678 - val_acc: 0.8701\n",
      "Epoch 17/20\n",
      "15000/15000 [==============================] - 2s 163us/step - loss: 0.0099 - acc: 0.9995 - val_loss: 0.6595 - val_acc: 0.8583\n",
      "Epoch 18/20\n",
      "15000/15000 [==============================] - 3s 190us/step - loss: 0.0132 - acc: 0.9967 - val_loss: 0.6368 - val_acc: 0.8673\n",
      "Epoch 19/20\n",
      "15000/15000 [==============================] - 4s 234us/step - loss: 0.0056 - acc: 0.9997 - val_loss: 0.7063 - val_acc: 0.8592\n",
      "Epoch 20/20\n",
      "15000/15000 [==============================] - 4s 253us/step - loss: 0.0094 - acc: 0.9982 - val_loss: 0.6933 - val_acc: 0.8653\n"
     ]
    }
   ],
   "source": [
    "history = model.fit(partial_x_train,\n",
    "                   partial_y_train,\n",
    "                   epochs=20,\n",
    "                   batch_size=512,\n",
    "                   validation_data=(x_val, y_val))"
   ]
  },
  {
   "cell_type": "code",
   "execution_count": 32,
   "metadata": {},
   "outputs": [
    {
     "data": {
      "text/plain": [
       "['acc', 'loss', 'val_acc', 'val_loss']"
      ]
     },
     "execution_count": 32,
     "metadata": {},
     "output_type": "execute_result"
    }
   ],
   "source": [
    "history_dict = history.history\n",
    "history_dict.keys()"
   ]
  },
  {
   "cell_type": "code",
   "execution_count": 38,
   "metadata": {},
   "outputs": [
    {
     "data": {
      "image/png": "[encoded data removed]",
      "text/plain": [
       "<matplotlib.figure.Figure at 0x20d3d28d0>"
      ]
     },
     "metadata": {},
     "output_type": "display_data"
    }
   ],
   "source": [
    "loss_values = history_dict['loss']\n",
    "val_loss_values = history_dict['val_loss']\n",
    "\n",
    "epochs = range(1, len(loss_values) + 1)\n",
    "\n",
    "plt.plot(epochs, loss_values, 'bo', label='Training loss')\n",
    "plt.plot(epochs, val_loss_values, 'b', label='Validation loss')\n",
    "plt.title('Training and validation loss')\n",
    "plt.xlabel('Epochs')\n",
    "plt.ylabel('Loss')\n",
    "plt.legend()\n",
    "plt.show()"
   ]
  },
  {
   "cell_type": "code",
   "execution_count": 39,
   "metadata": {},
   "outputs": [
    {
     "data": {
      "image/png": "[encoded data removed]",
      "text/plain": [
       "<matplotlib.figure.Figure at 0x11e5fcad0>"
      ]
     },
     "metadata": {},
     "output_type": "display_data"
    }
   ],
   "source": [
    "plt.clf()\n",
    "acc_values = history_dict['acc']\n",
    "val_acc_values = history_dict['val_acc']\n",
    "\n",
    "plt.plot(epochs, acc_values, 'bo', label='Training acc')\n",
    "plt.plot(epochs, val_acc_values, 'b', label='Validation acc')\n",
    "plt.title('Training and validation accuracy')\n",
    "plt.xlabel('Epochs')\n",
    "plt.ylabel('Accuracy')\n",
    "plt.legend()\n",
    "\n",
    "plt.show()"
   ]
  },
  {
   "cell_type": "code",
   "execution_count": 43,
   "metadata": {},
   "outputs": [
    {
     "name": "stdout",
     "output_type": "stream",
     "text": [
      "Epoch 1/4\n",
      "25000/25000 [==============================] - 3s 113us/step - loss: 0.1498 - acc: 0.8142\n",
      "Epoch 2/4\n",
      "25000/25000 [==============================] - 2s 100us/step - loss: 0.0790 - acc: 0.9100\n",
      "Epoch 3/4\n",
      "25000/25000 [==============================] - 2s 99us/step - loss: 0.0592 - acc: 0.9284\n",
      "Epoch 4/4\n",
      "25000/25000 [==============================] - 3s 118us/step - loss: 0.0486 - acc: 0.9426\n",
      "25000/25000 [==============================] - 2s 96us/step\n",
      "[0.086684307196140287, 0.88280000000000003]\n"
     ]
    }
   ],
   "source": [
    "model = models.Sequential()\n",
    "model.add(layers.Dense(16, activation='relu', input_shape=(10000,)))\n",
    "model.add(layers.Dense(16, activation='relu'))\n",
    "model.add(layers.Dense(1, activation='sigmoid'))\n",
    "\n",
    "model.compile(optimizer='rmsprop',\n",
    "             loss='binary_crossentropy',\n",
    "             metrics=['accuracy'])\n",
    "\n",
    "model.fit(x_train, y_train, epochs=4, batch_size=512)\n",
    "results = model.evaluate(x_test, y_test)\n",
    "print results"
   ]
  },
  {
   "cell_type": "code",
   "execution_count": 42,
   "metadata": {},
   "outputs": [
    {
     "data": {
      "text/plain": [
       "array([[ 0.15684398],\n",
       "       [ 0.99982965],\n",
       "       [ 0.40445155],\n",
       "       ..., \n",
       "       [ 0.08264954],\n",
       "       [ 0.05061212],\n",
       "       [ 0.4683243 ]], dtype=float32)"
      ]
     },
     "execution_count": 42,
     "metadata": {},
     "output_type": "execute_result"
    }
   ],
   "source": [
    "model.predict(x_test)"
   ]
  },
  {
   "cell_type": "markdown",
   "metadata": {},
   "source": [
    "### Experimentation"
   ]
  },
  {
   "cell_type": "code",
   "execution_count": 116,
   "metadata": {},
   "outputs": [],
   "source": [
    "def create_neural_net(hidden_layers=[16, 16], loss='binary_crossentropy', activation='relu'):\n",
    "    m = models.Sequential()\n",
    "    \n",
    "    m.add(layers.Dense(hidden_layers[0], activation=activation, input_shape=(10000,)))\n",
    "    for node_count in hidden_layers[1:]:\n",
    "        m.add(layers.Dense(node_count, activation=activation))\n",
    "    m.add(layers.Dense(1, activation='sigmoid'))\n",
    "    m.compile(optimizer='rmsprop',\n",
    "             loss=loss,\n",
    "             metrics=['accuracy'])\n",
    "    return m\n",
    "\n",
    "def train_model(m, epochs=20):\n",
    "    h = m.fit(partial_x_train,\n",
    "                 partial_y_train,\n",
    "                 epochs=epochs,\n",
    "                 batch_size=512,\n",
    "                 validation_data=(x_val, y_val))\n",
    "    return h\n",
    "    \n",
    "def generate_charts(history_dict):\n",
    "    loss_values = history_dict['loss']\n",
    "    val_loss_values = history_dict['val_loss']\n",
    "\n",
    "    epochs = range(1, len(loss_values) + 1)\n",
    "    \n",
    "    f, (ax1, ax2) = plt.subplots(1, 2)\n",
    "    ax1.plot(epochs, loss_values, 'bo', label='Training loss')\n",
    "    ax1.plot(epochs, val_loss_values, 'b', label='Validation loss')\n",
    "    ax1.set_title('Loss')\n",
    "    ax1.set_xlabel('Epochs')\n",
    "    ax1.set_ylabel('Loss')\n",
    "    \n",
    "    acc_values = history_dict['acc']\n",
    "    val_acc_values = history_dict['val_acc']\n",
    "\n",
    "    ax2.plot(epochs, acc_values, 'bo', label='Training acc')\n",
    "    ax2.plot(epochs, val_acc_values, 'b', label='Validation acc')\n",
    "    ax2.set_title('Accuracy')\n",
    "    ax2.set_xlabel('Epochs')\n",
    "    ax2.set_ylabel('Accuracy')\n",
    "\n",
    "    plt.show()"
   ]
  },
  {
   "cell_type": "code",
   "execution_count": 79,
   "metadata": {},
   "outputs": [
    {
     "name": "stdout",
     "output_type": "stream",
     "text": [
      "Train on 15000 samples, validate on 10000 samples\n",
      "Epoch 1/20\n",
      "15000/15000 [==============================] - 3s 227us/step - loss: 0.5222 - acc: 0.7935 - val_loss: 0.3927 - val_acc: 0.8593\n",
      "Epoch 2/20\n",
      "15000/15000 [==============================] - 2s 165us/step - loss: 0.2991 - acc: 0.9041 - val_loss: 0.3121 - val_acc: 0.8775\n",
      "Epoch 3/20\n",
      "15000/15000 [==============================] - 2s 164us/step - loss: 0.2169 - acc: 0.9301 - val_loss: 0.3319 - val_acc: 0.8660\n",
      "Epoch 4/20\n",
      "15000/15000 [==============================] - 3s 171us/step - loss: 0.1700 - acc: 0.9453 - val_loss: 0.2746 - val_acc: 0.8893\n",
      "Epoch 5/20\n",
      "15000/15000 [==============================] - 3s 172us/step - loss: 0.1384 - acc: 0.9552 - val_loss: 0.3344 - val_acc: 0.8710\n",
      "Epoch 6/20\n",
      "15000/15000 [==============================] - 2s 155us/step - loss: 0.1119 - acc: 0.9660 - val_loss: 0.2972 - val_acc: 0.8846\n",
      "Epoch 7/20\n",
      "15000/15000 [==============================] - 3s 172us/step - loss: 0.0926 - acc: 0.9723 - val_loss: 0.3204 - val_acc: 0.8822\n",
      "Epoch 8/20\n",
      "15000/15000 [==============================] - 2s 161us/step - loss: 0.0769 - acc: 0.9779 - val_loss: 0.3416 - val_acc: 0.8819\n",
      "Epoch 9/20\n",
      "15000/15000 [==============================] - 3s 180us/step - loss: 0.0623 - acc: 0.9843 - val_loss: 0.3571 - val_acc: 0.8798\n",
      "Epoch 10/20\n",
      "15000/15000 [==============================] - 2s 159us/step - loss: 0.0507 - acc: 0.9865 - val_loss: 0.3888 - val_acc: 0.8777\n",
      "Epoch 11/20\n",
      "15000/15000 [==============================] - 3s 190us/step - loss: 0.0385 - acc: 0.9914 - val_loss: 0.4165 - val_acc: 0.8737\n",
      "Epoch 12/20\n",
      "15000/15000 [==============================] - 2s 139us/step - loss: 0.0321 - acc: 0.9929 - val_loss: 0.4436 - val_acc: 0.8726\n",
      "Epoch 13/20\n",
      "15000/15000 [==============================] - 2s 143us/step - loss: 0.0251 - acc: 0.9947 - val_loss: 0.4743 - val_acc: 0.8709\n",
      "Epoch 14/20\n",
      "15000/15000 [==============================] - 2s 155us/step - loss: 0.0195 - acc: 0.9962 - val_loss: 0.5119 - val_acc: 0.8718\n",
      "Epoch 15/20\n",
      "15000/15000 [==============================] - 2s 143us/step - loss: 0.0171 - acc: 0.9970 - val_loss: 0.5348 - val_acc: 0.8691\n",
      "Epoch 16/20\n",
      "15000/15000 [==============================] - 2s 152us/step - loss: 0.0120 - acc: 0.9984 - val_loss: 0.5607 - val_acc: 0.8693\n",
      "Epoch 17/20\n",
      "15000/15000 [==============================] - 2s 148us/step - loss: 0.0070 - acc: 0.9995 - val_loss: 0.6012 - val_acc: 0.8676\n",
      "Epoch 18/20\n",
      "15000/15000 [==============================] - 2s 132us/step - loss: 0.0087 - acc: 0.9988 - val_loss: 0.6301 - val_acc: 0.8677\n",
      "Epoch 19/20\n",
      "15000/15000 [==============================] - 2s 138us/step - loss: 0.0036 - acc: 0.9999 - val_loss: 0.7113 - val_acc: 0.8583\n",
      "Epoch 20/20\n",
      "15000/15000 [==============================] - 2s 160us/step - loss: 0.0036 - acc: 0.9998 - val_loss: 0.7026 - val_acc: 0.8654\n"
     ]
    }
   ],
   "source": [
    "two_layers_model = create_neural_net()\n",
    "two_layers_history = train_model(two_layers_model)"
   ]
  },
  {
   "cell_type": "code",
   "execution_count": 110,
   "metadata": {},
   "outputs": [
    {
     "name": "stdout",
     "output_type": "stream",
     "text": [
      "Train on 15000 samples, validate on 10000 samples\n",
      "Epoch 1/20\n",
      "15000/15000 [==============================] - 3s 218us/step - loss: 0.5918 - acc: 0.7465 - val_loss: 0.4545 - val_acc: 0.8677\n",
      "Epoch 2/20\n",
      "15000/15000 [==============================] - 2s 153us/step - loss: 0.3587 - acc: 0.8927 - val_loss: 0.3290 - val_acc: 0.8858\n",
      "Epoch 3/20\n",
      "15000/15000 [==============================] - 2s 150us/step - loss: 0.2486 - acc: 0.9223 - val_loss: 0.2908 - val_acc: 0.8889\n",
      "Epoch 4/20\n",
      "15000/15000 [==============================] - 2s 149us/step - loss: 0.1863 - acc: 0.9427 - val_loss: 0.2758 - val_acc: 0.8927\n",
      "Epoch 5/20\n",
      "15000/15000 [==============================] - 2s 152us/step - loss: 0.1453 - acc: 0.9535 - val_loss: 0.2882 - val_acc: 0.8874\n",
      "Epoch 6/20\n",
      "15000/15000 [==============================] - 2s 151us/step - loss: 0.1142 - acc: 0.9661 - val_loss: 0.3072 - val_acc: 0.8829\n",
      "Epoch 7/20\n",
      "15000/15000 [==============================] - 2s 156us/step - loss: 0.0925 - acc: 0.9738 - val_loss: 0.3217 - val_acc: 0.8825\n",
      "Epoch 8/20\n",
      "15000/15000 [==============================] - 2s 150us/step - loss: 0.0733 - acc: 0.9798 - val_loss: 0.3409 - val_acc: 0.8816\n",
      "Epoch 9/20\n",
      "15000/15000 [==============================] - 2s 153us/step - loss: 0.0544 - acc: 0.9873 - val_loss: 0.3711 - val_acc: 0.8814\n",
      "Epoch 10/20\n",
      "15000/15000 [==============================] - 2s 147us/step - loss: 0.0461 - acc: 0.9874 - val_loss: 0.3995 - val_acc: 0.8780\n",
      "Epoch 11/20\n",
      "15000/15000 [==============================] - 3s 176us/step - loss: 0.0332 - acc: 0.9927 - val_loss: 0.4372 - val_acc: 0.8751\n",
      "Epoch 12/20\n",
      "15000/15000 [==============================] - 2s 151us/step - loss: 0.0284 - acc: 0.9934 - val_loss: 0.4553 - val_acc: 0.8779\n",
      "Epoch 13/20\n",
      "15000/15000 [==============================] - 2s 148us/step - loss: 0.0132 - acc: 0.9987 - val_loss: 0.5130 - val_acc: 0.8698\n",
      "Epoch 14/20\n",
      "15000/15000 [==============================] - 2s 143us/step - loss: 0.0199 - acc: 0.9948 - val_loss: 0.5292 - val_acc: 0.8729\n",
      "Epoch 15/20\n",
      "15000/15000 [==============================] - 2s 140us/step - loss: 0.0065 - acc: 0.9996 - val_loss: 0.5781 - val_acc: 0.8690\n",
      "Epoch 16/20\n",
      "15000/15000 [==============================] - 2s 147us/step - loss: 0.0151 - acc: 0.9955 - val_loss: 0.6012 - val_acc: 0.8697\n",
      "Epoch 17/20\n",
      "15000/15000 [==============================] - 2s 146us/step - loss: 0.0031 - acc: 0.9998 - val_loss: 0.6303 - val_acc: 0.8704\n",
      "Epoch 18/20\n",
      "15000/15000 [==============================] - 2s 140us/step - loss: 0.0088 - acc: 0.9969 - val_loss: 0.6688 - val_acc: 0.8706\n",
      "Epoch 19/20\n",
      "15000/15000 [==============================] - 2s 141us/step - loss: 0.0016 - acc: 0.9999 - val_loss: 0.6941 - val_acc: 0.8695\n",
      "Epoch 20/20\n",
      "15000/15000 [==============================] - 2s 141us/step - loss: 0.0013 - acc: 0.9999 - val_loss: 0.7305 - val_acc: 0.8688\n"
     ]
    }
   ],
   "source": [
    "three_layers_model = create_neural_net(hidden_layers=[16, 16, 16])\n",
    "three_layers_history = train_model(three_layers_model)"
   ]
  },
  {
   "cell_type": "code",
   "execution_count": 112,
   "metadata": {},
   "outputs": [
    {
     "name": "stdout",
     "output_type": "stream",
     "text": [
      "Train on 15000 samples, validate on 10000 samples\n",
      "Epoch 1/20\n",
      "15000/15000 [==============================] - 4s 297us/step - loss: 0.4904 - acc: 0.7844 - val_loss: 0.3561 - val_acc: 0.8710\n",
      "Epoch 2/20\n",
      "15000/15000 [==============================] - 3s 193us/step - loss: 0.2690 - acc: 0.9105 - val_loss: 0.3089 - val_acc: 0.8776\n",
      "Epoch 3/20\n",
      "15000/15000 [==============================] - 3s 205us/step - loss: 0.2019 - acc: 0.9302 - val_loss: 0.3051 - val_acc: 0.8771\n",
      "Epoch 4/20\n",
      "15000/15000 [==============================] - 3s 192us/step - loss: 0.1564 - acc: 0.9477 - val_loss: 0.2947 - val_acc: 0.8829\n",
      "Epoch 5/20\n",
      "15000/15000 [==============================] - 3s 195us/step - loss: 0.1236 - acc: 0.9606 - val_loss: 0.2969 - val_acc: 0.8825\n",
      "Epoch 6/20\n",
      "15000/15000 [==============================] - 3s 186us/step - loss: 0.0995 - acc: 0.9663 - val_loss: 0.3243 - val_acc: 0.8789\n",
      "Epoch 7/20\n",
      "15000/15000 [==============================] - 3s 199us/step - loss: 0.0787 - acc: 0.9752 - val_loss: 0.3381 - val_acc: 0.8814\n",
      "Epoch 8/20\n",
      "15000/15000 [==============================] - 3s 205us/step - loss: 0.0608 - acc: 0.9824 - val_loss: 0.3943 - val_acc: 0.8704\n",
      "Epoch 9/20\n",
      "15000/15000 [==============================] - 3s 198us/step - loss: 0.0481 - acc: 0.9871 - val_loss: 0.4018 - val_acc: 0.8782\n",
      "Epoch 10/20\n",
      "15000/15000 [==============================] - 3s 187us/step - loss: 0.0391 - acc: 0.9901 - val_loss: 0.4385 - val_acc: 0.8775\n",
      "Epoch 11/20\n",
      "15000/15000 [==============================] - 3s 181us/step - loss: 0.0293 - acc: 0.9931 - val_loss: 0.4672 - val_acc: 0.8746\n",
      "Epoch 12/20\n",
      "15000/15000 [==============================] - 3s 193us/step - loss: 0.0231 - acc: 0.9949 - val_loss: 0.4944 - val_acc: 0.8746\n",
      "Epoch 13/20\n",
      "15000/15000 [==============================] - 3s 196us/step - loss: 0.0151 - acc: 0.9974 - val_loss: 0.5262 - val_acc: 0.8743\n",
      "Epoch 14/20\n",
      "15000/15000 [==============================] - 3s 168us/step - loss: 0.0074 - acc: 0.9996 - val_loss: 0.5973 - val_acc: 0.8695\n",
      "Epoch 15/20\n",
      "15000/15000 [==============================] - 3s 168us/step - loss: 0.0163 - acc: 0.9956 - val_loss: 0.6021 - val_acc: 0.8707\n",
      "Epoch 16/20\n",
      "15000/15000 [==============================] - 3s 194us/step - loss: 0.0035 - acc: 0.9999 - val_loss: 0.6396 - val_acc: 0.8695\n",
      "Epoch 17/20\n",
      "15000/15000 [==============================] - 3s 174us/step - loss: 0.0124 - acc: 0.9965 - val_loss: 0.6717 - val_acc: 0.8677\n",
      "Epoch 18/20\n",
      "15000/15000 [==============================] - 3s 167us/step - loss: 0.0018 - acc: 0.9999 - val_loss: 0.7027 - val_acc: 0.8660\n",
      "Epoch 19/20\n",
      "15000/15000 [==============================] - 3s 171us/step - loss: 0.0092 - acc: 0.9971 - val_loss: 0.7381 - val_acc: 0.8686\n",
      "Epoch 20/20\n",
      "15000/15000 [==============================] - 3s 171us/step - loss: 9.9860e-04 - acc: 0.9999 - val_loss: 0.7591 - val_acc: 0.8651\n"
     ]
    }
   ],
   "source": [
    "thirty_two_model = create_neural_net(hidden_layers=[32, 32])\n",
    "thirty_two_history = train_model(thirty_two_model)"
   ]
  },
  {
   "cell_type": "code",
   "execution_count": 113,
   "metadata": {},
   "outputs": [
    {
     "name": "stdout",
     "output_type": "stream",
     "text": [
      "Train on 15000 samples, validate on 10000 samples\n",
      "Epoch 1/20\n",
      "15000/15000 [==============================] - 4s 280us/step - loss: 0.4883 - acc: 0.7697 - val_loss: 0.3161 - val_acc: 0.8847\n",
      "Epoch 2/20\n",
      "15000/15000 [==============================] - 3s 225us/step - loss: 0.2586 - acc: 0.9032 - val_loss: 0.2884 - val_acc: 0.8825\n",
      "Epoch 3/20\n",
      "15000/15000 [==============================] - 3s 219us/step - loss: 0.1911 - acc: 0.9273 - val_loss: 0.3540 - val_acc: 0.8598\n",
      "Epoch 4/20\n",
      "15000/15000 [==============================] - 3s 209us/step - loss: 0.1348 - acc: 0.9513 - val_loss: 0.3032 - val_acc: 0.8895\n",
      "Epoch 5/20\n",
      "15000/15000 [==============================] - 3s 223us/step - loss: 0.1103 - acc: 0.9605 - val_loss: 0.4326 - val_acc: 0.8600\n",
      "Epoch 6/20\n",
      "15000/15000 [==============================] - 3s 215us/step - loss: 0.0727 - acc: 0.9762 - val_loss: 0.4233 - val_acc: 0.8609\n",
      "Epoch 7/20\n",
      "15000/15000 [==============================] - 4s 247us/step - loss: 0.0745 - acc: 0.9742 - val_loss: 0.3802 - val_acc: 0.8836\n",
      "Epoch 8/20\n",
      "15000/15000 [==============================] - 5s 315us/step - loss: 0.0263 - acc: 0.9951 - val_loss: 0.4623 - val_acc: 0.8686\n",
      "Epoch 9/20\n",
      "15000/15000 [==============================] - 4s 243us/step - loss: 0.0388 - acc: 0.9873 - val_loss: 0.5163 - val_acc: 0.8763\n",
      "Epoch 10/20\n",
      "15000/15000 [==============================] - 4s 244us/step - loss: 0.0334 - acc: 0.9905 - val_loss: 0.5042 - val_acc: 0.8778\n",
      "Epoch 11/20\n",
      "15000/15000 [==============================] - 4s 258us/step - loss: 0.0059 - acc: 0.9995 - val_loss: 0.5511 - val_acc: 0.8763\n",
      "Epoch 12/20\n",
      "15000/15000 [==============================] - 4s 275us/step - loss: 0.0438 - acc: 0.9883 - val_loss: 0.5778 - val_acc: 0.8749\n",
      "Epoch 13/20\n",
      "15000/15000 [==============================] - 4s 237us/step - loss: 0.0024 - acc: 0.9999 - val_loss: 0.6122 - val_acc: 0.8757\n",
      "Epoch 14/20\n",
      "15000/15000 [==============================] - 4s 246us/step - loss: 0.0016 - acc: 0.9999 - val_loss: 0.6860 - val_acc: 0.8738\n",
      "Epoch 15/20\n",
      "15000/15000 [==============================] - 3s 232us/step - loss: 0.0326 - acc: 0.9927 - val_loss: 0.6794 - val_acc: 0.8727\n",
      "Epoch 16/20\n",
      "15000/15000 [==============================] - 4s 256us/step - loss: 6.9307e-04 - acc: 1.0000 - val_loss: 0.7113 - val_acc: 0.8733\n",
      "Epoch 17/20\n",
      "15000/15000 [==============================] - 4s 247us/step - loss: 4.7542e-04 - acc: 1.0000 - val_loss: 0.7547 - val_acc: 0.8730\n",
      "Epoch 18/20\n",
      "15000/15000 [==============================] - 4s 246us/step - loss: 0.0455 - acc: 0.9924 - val_loss: 0.7909 - val_acc: 0.8685\n",
      "Epoch 19/20\n",
      "15000/15000 [==============================] - 4s 260us/step - loss: 2.3528e-04 - acc: 1.0000 - val_loss: 0.8054 - val_acc: 0.8697\n",
      "Epoch 20/20\n",
      "15000/15000 [==============================] - 4s 240us/step - loss: 1.7970e-04 - acc: 1.0000 - val_loss: 0.8292 - val_acc: 0.8703\n"
     ]
    }
   ],
   "source": [
    "sixty_four_model = create_neural_net(hidden_layers=[64, 64])\n",
    "sixty_four_history = train_model(sixty_four_model)"
   ]
  },
  {
   "cell_type": "code",
   "execution_count": 117,
   "metadata": {},
   "outputs": [
    {
     "name": "stdout",
     "output_type": "stream",
     "text": [
      "Train on 15000 samples, validate on 10000 samples\n",
      "Epoch 1/20\n",
      "15000/15000 [==============================] - 4s 246us/step - loss: 0.1872 - acc: 0.7685 - val_loss: 0.1418 - val_acc: 0.8591\n",
      "Epoch 2/20\n",
      "15000/15000 [==============================] - 2s 164us/step - loss: 0.1081 - acc: 0.9005 - val_loss: 0.1039 - val_acc: 0.8839\n",
      "Epoch 3/20\n",
      "15000/15000 [==============================] - 3s 187us/step - loss: 0.0742 - acc: 0.9283 - val_loss: 0.0949 - val_acc: 0.8822\n",
      "Epoch 4/20\n",
      "15000/15000 [==============================] - 3s 174us/step - loss: 0.0571 - acc: 0.9435 - val_loss: 0.0851 - val_acc: 0.8887\n",
      "Epoch 5/20\n",
      "15000/15000 [==============================] - 3s 181us/step - loss: 0.0461 - acc: 0.9524 - val_loss: 0.0863 - val_acc: 0.8847\n",
      "Epoch 6/20\n",
      "15000/15000 [==============================] - 3s 174us/step - loss: 0.0373 - acc: 0.9634 - val_loss: 0.0875 - val_acc: 0.8810\n",
      "Epoch 7/20\n",
      "15000/15000 [==============================] - 3s 177us/step - loss: 0.0309 - acc: 0.9713 - val_loss: 0.0856 - val_acc: 0.8831\n",
      "Epoch 8/20\n",
      "15000/15000 [==============================] - 3s 181us/step - loss: 0.0257 - acc: 0.9765 - val_loss: 0.0879 - val_acc: 0.8801\n",
      "Epoch 9/20\n",
      "15000/15000 [==============================] - 2s 163us/step - loss: 0.0208 - acc: 0.9830 - val_loss: 0.0917 - val_acc: 0.8787\n",
      "Epoch 10/20\n",
      "15000/15000 [==============================] - 2s 165us/step - loss: 0.0185 - acc: 0.9852 - val_loss: 0.0924 - val_acc: 0.8777\n",
      "Epoch 11/20\n",
      "15000/15000 [==============================] - 2s 166us/step - loss: 0.0152 - acc: 0.9881 - val_loss: 0.0956 - val_acc: 0.8730\n",
      "Epoch 12/20\n",
      "15000/15000 [==============================] - 3s 171us/step - loss: 0.0126 - acc: 0.9899 - val_loss: 0.0951 - val_acc: 0.8743\n",
      "Epoch 13/20\n",
      "15000/15000 [==============================] - 3s 185us/step - loss: 0.0112 - acc: 0.9906 - val_loss: 0.0968 - val_acc: 0.8740\n",
      "Epoch 14/20\n",
      "15000/15000 [==============================] - 3s 171us/step - loss: 0.0083 - acc: 0.9941 - val_loss: 0.0990 - val_acc: 0.8723\n",
      "Epoch 15/20\n",
      "15000/15000 [==============================] - 2s 153us/step - loss: 0.0074 - acc: 0.9946 - val_loss: 0.1004 - val_acc: 0.8729\n",
      "Epoch 16/20\n",
      "15000/15000 [==============================] - 3s 181us/step - loss: 0.0064 - acc: 0.9953 - val_loss: 0.1020 - val_acc: 0.8723\n",
      "Epoch 17/20\n",
      "15000/15000 [==============================] - 2s 151us/step - loss: 0.0052 - acc: 0.9959 - val_loss: 0.1043 - val_acc: 0.8680\n",
      "Epoch 18/20\n",
      "15000/15000 [==============================] - 2s 157us/step - loss: 0.0053 - acc: 0.9961 - val_loss: 0.1053 - val_acc: 0.8689\n",
      "Epoch 19/20\n",
      "15000/15000 [==============================] - 2s 155us/step - loss: 0.0036 - acc: 0.9972 - val_loss: 0.1072 - val_acc: 0.8676\n",
      "Epoch 20/20\n",
      "15000/15000 [==============================] - 2s 161us/step - loss: 0.0046 - acc: 0.9959 - val_loss: 0.1089 - val_acc: 0.8666\n"
     ]
    }
   ],
   "source": [
    "mse_model = create_neural_net(loss='mse')\n",
    "mse_history = train_model(mse_model)"
   ]
  },
  {
   "cell_type": "code",
   "execution_count": 118,
   "metadata": {},
   "outputs": [
    {
     "name": "stdout",
     "output_type": "stream",
     "text": [
      "Train on 15000 samples, validate on 10000 samples\n",
      "Epoch 1/20\n",
      "15000/15000 [==============================] - 3s 232us/step - loss: 0.4895 - acc: 0.7935 - val_loss: 0.3722 - val_acc: 0.8562\n",
      "Epoch 2/20\n",
      "15000/15000 [==============================] - 2s 136us/step - loss: 0.2735 - acc: 0.9076 - val_loss: 0.2836 - val_acc: 0.8908\n",
      "Epoch 3/20\n",
      "15000/15000 [==============================] - 2s 134us/step - loss: 0.1955 - acc: 0.9341 - val_loss: 0.2697 - val_acc: 0.8927\n",
      "Epoch 4/20\n",
      "15000/15000 [==============================] - 2s 140us/step - loss: 0.1462 - acc: 0.9509 - val_loss: 0.2952 - val_acc: 0.8812\n",
      "Epoch 5/20\n",
      "15000/15000 [==============================] - 2s 137us/step - loss: 0.1141 - acc: 0.9619 - val_loss: 0.3043 - val_acc: 0.8840\n",
      "Epoch 6/20\n",
      "15000/15000 [==============================] - 2s 136us/step - loss: 0.0872 - acc: 0.9711 - val_loss: 0.3747 - val_acc: 0.8692\n",
      "Epoch 7/20\n",
      "15000/15000 [==============================] - 2s 165us/step - loss: 0.0691 - acc: 0.9784 - val_loss: 0.3872 - val_acc: 0.8771\n",
      "Epoch 8/20\n",
      "15000/15000 [==============================] - 2s 146us/step - loss: 0.0532 - acc: 0.9841 - val_loss: 0.4187 - val_acc: 0.8722\n",
      "Epoch 9/20\n",
      "15000/15000 [==============================] - 2s 142us/step - loss: 0.0437 - acc: 0.9869 - val_loss: 0.4589 - val_acc: 0.8717\n",
      "Epoch 10/20\n",
      "15000/15000 [==============================] - 2s 139us/step - loss: 0.0294 - acc: 0.9927 - val_loss: 0.5049 - val_acc: 0.8703\n",
      "Epoch 11/20\n",
      "15000/15000 [==============================] - 2s 142us/step - loss: 0.0283 - acc: 0.9917 - val_loss: 0.5583 - val_acc: 0.8683\n",
      "Epoch 12/20\n",
      "15000/15000 [==============================] - 2s 146us/step - loss: 0.0283 - acc: 0.9919 - val_loss: 0.5889 - val_acc: 0.8644\n",
      "Epoch 13/20\n",
      "15000/15000 [==============================] - 2s 162us/step - loss: 0.0085 - acc: 0.9990 - val_loss: 0.6207 - val_acc: 0.8655\n",
      "Epoch 14/20\n",
      "15000/15000 [==============================] - 3s 168us/step - loss: 0.0221 - acc: 0.9939 - val_loss: 0.6582 - val_acc: 0.8643\n",
      "Epoch 15/20\n",
      "15000/15000 [==============================] - 2s 165us/step - loss: 0.0038 - acc: 0.9997 - val_loss: 0.6908 - val_acc: 0.8634\n",
      "Epoch 16/20\n",
      "15000/15000 [==============================] - 2s 165us/step - loss: 0.0188 - acc: 0.9951 - val_loss: 0.7279 - val_acc: 0.8619\n",
      "Epoch 17/20\n",
      "15000/15000 [==============================] - 3s 208us/step - loss: 0.0019 - acc: 0.9999 - val_loss: 0.7462 - val_acc: 0.8627\n",
      "Epoch 18/20\n",
      "15000/15000 [==============================] - 3s 184us/step - loss: 0.0015 - acc: 0.9999 - val_loss: 0.7857 - val_acc: 0.8617\n",
      "Epoch 19/20\n",
      "15000/15000 [==============================] - 2s 162us/step - loss: 0.0198 - acc: 0.9945 - val_loss: 0.8215 - val_acc: 0.8606\n",
      "Epoch 20/20\n",
      "15000/15000 [==============================] - 2s 163us/step - loss: 9.4773e-04 - acc: 0.9999 - val_loss: 0.8333 - val_acc: 0.8605\n"
     ]
    }
   ],
   "source": [
    "tanh_model = create_neural_net(activation='tanh')\n",
    "tanh_history = train_model(tanh_model)"
   ]
  },
  {
   "cell_type": "code",
   "execution_count": 119,
   "metadata": {},
   "outputs": [
    {
     "name": "stdout",
     "output_type": "stream",
     "text": [
      "2 hidden layers\n"
     ]
    },
    {
     "data": {
      "image/png": "[encoded data removed]",
      "text/plain": [
       "<matplotlib.figure.Figure at 0x294cf8950>"
      ]
     },
     "metadata": {},
     "output_type": "display_data"
    },
    {
     "name": "stdout",
     "output_type": "stream",
     "text": [
      "3 hidden layers\n"
     ]
    },
    {
     "data": {
      "image/png": "[encoded data removed]",
      "text/plain": [
       "<matplotlib.figure.Figure at 0x288f76810>"
      ]
     },
     "metadata": {},
     "output_type": "display_data"
    },
    {
     "name": "stdout",
     "output_type": "stream",
     "text": [
      "32 units\n"
     ]
    },
    {
     "data": {
      "image/png": "[encoded data removed]",
      "text/plain": [
       "<matplotlib.figure.Figure at 0x295129b10>"
      ]
     },
     "metadata": {},
     "output_type": "display_data"
    },
    {
     "name": "stdout",
     "output_type": "stream",
     "text": [
      "64 units\n"
     ]
    },
    {
     "data": {
      "image/png": "[encoded data removed]",
      "text/plain": [
       "<matplotlib.figure.Figure at 0x29809c8d0>"
      ]
     },
     "metadata": {},
     "output_type": "display_data"
    },
    {
     "name": "stdout",
     "output_type": "stream",
     "text": [
      "MSE loss\n"
     ]
    },
    {
     "data": {
      "image/png": "[encoded data removed]",
      "text/plain": [
       "<matplotlib.figure.Figure at 0x29891b090>"
      ]
     },
     "metadata": {},
     "output_type": "display_data"
    },
    {
     "name": "stdout",
     "output_type": "stream",
     "text": [
      "tanh activation\n"
     ]
    },
    {
     "data": {
      "image/png": "[encoded data removed]",
      "text/plain": [
       "<matplotlib.figure.Figure at 0x2989f6850>"
      ]
     },
     "metadata": {},
     "output_type": "display_data"
    }
   ],
   "source": [
    "print \"2 hidden layers\"\n",
    "generate_charts(two_layers_history.history)\n",
    "print \"3 hidden layers\"\n",
    "generate_charts(three_layers_history.history)\n",
    "print \"32 units\"\n",
    "generate_charts(thirty_two_history.history)\n",
    "print \"64 units\"\n",
    "generate_charts(sixty_four_history.history)\n",
    "print \"MSE loss\"\n",
    "generate_charts(mse_history.history)\n",
    "print \"tanh activation\"\n",
    "generate_charts(tanh_history.history)"
   ]
  },
  {
   "cell_type": "code",
   "execution_count": 120,
   "metadata": {},
   "outputs": [
    {
     "name": "stdout",
     "output_type": "stream",
     "text": [
      "25000/25000 [==============================] - 3s 121us/step\n",
      "[0.77680449512004857, 0.85075999999999996]\n",
      "25000/25000 [==============================] - 3s 107us/step\n",
      "[0.81555645062446591, 0.85340000000000005]\n",
      "25000/25000 [==============================] - 3s 131us/step\n",
      "[0.83907713793039318, 0.85152000000000005]\n",
      "25000/25000 [==============================] - 5s 184us/step\n",
      "[0.92070787186861036, 0.85455999999999999]\n",
      "25000/25000 [==============================] - 3s 113us/step\n",
      "[0.1191392409157753, 0.85372000000000003]\n",
      "25000/25000 [==============================] - 3s 114us/step\n",
      "[0.92966587378978727, 0.84419999999999995]\n"
     ]
    }
   ],
   "source": [
    "def evaluate(m):\n",
    "    results = m.evaluate(x_test, y_test)\n",
    "    print results\n",
    "    \n",
    "evaluate(two_layers_model)\n",
    "evaluate(three_layers_model)\n",
    "evaluate(thirty_two_model)\n",
    "evaluate(sixty_four_model)\n",
    "evaluate(mse_model)\n",
    "evaluate(tanh_model)"
   ]
  }
 ],
 "metadata": {
  "kernelspec": {
   "display_name": "Python 2",
   "language": "python",
   "name": "python2"
  },
  "language_info": {
   "codemirror_mode": {
    "name": "ipython",
    "version": 2
   },
   "file_extension": ".py",
   "mimetype": "text/x-python",
   "name": "python",
   "nbconvert_exporter": "python",
   "pygments_lexer": "ipython2",
   "version": "2.7.13"
  }
 },
 "nbformat": 4,
 "nbformat_minor": 2
}
